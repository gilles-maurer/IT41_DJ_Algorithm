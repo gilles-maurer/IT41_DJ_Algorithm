{
 "cells": [
  {
   "attachments": {},
   "cell_type": "markdown",
   "metadata": {},
   "source": [
    "# IT41 Project 2 - Quantum World"
   ]
  },
  {
   "cell_type": "code",
   "execution_count": null,
   "metadata": {},
   "outputs": [],
   "source": [
    "from qiskit import *\n",
    "\n",
    "simulator = Aer.get_backend('qasm_simulator')"
   ]
  },
  {
   "attachments": {},
   "cell_type": "markdown",
   "metadata": {},
   "source": [
    "#### 3 Qubits algorithm"
   ]
  },
  {
   "cell_type": "code",
   "execution_count": null,
   "metadata": {
    "collapsed": false
   },
   "outputs": [],
   "source": [
    "def deutsch_jozsa(function_to_test):\n",
    "    qr1 = QuantumRegister(3, '|0⟩')\n",
    "    qr2 = QuantumRegister(1, 'second reg.')\n",
    "    cr = ClassicalRegister(3, 'classic. reg.')\n",
    "    circuit = QuantumCircuit(qr1, qr2, cr)\n",
    "\n",
    "    circuit.barrier(qr1)\n",
    "    circuit.h(qr1)\n",
    "    circuit.x(qr2)\n",
    "    circuit.h(qr2)\n",
    "    circuit.barrier(qr1, qr2)\n",
    "\n",
    "    circuit = circuit.compose(function_to_test, qubits=[0, 1, 2, 3])  # We add the function to test\n",
    "\n",
    "    circuit.barrier(qr1, qr2)\n",
    "    circuit.h(qr1)\n",
    "    circuit.barrier(qr1, qr2)\n",
    "    circuit.measure(qr1, cr)\n",
    "\n",
    "    result = execute(circuit, backend=simulator, shots=1000).result()\n",
    "    counts = result.get_counts()\n",
    "    counts = {k[::-1]: v for k, v in counts.items()}  # We reverse the binary strings to match the order of the qubits\n",
    "\n",
    "    print(counts)\n",
    "    return circuit.draw('mpl')"
   ]
  },
  {
   "attachments": {},
   "cell_type": "markdown",
   "metadata": {},
   "source": [
    "#### N Qubits algorithm"
   ]
  },
  {
   "cell_type": "code",
   "execution_count": null,
   "metadata": {
    "collapsed": false
   },
   "outputs": [],
   "source": [
    "def deutsch_jozsa_extended(function_to_test):\n",
    "    n = function_to_test.num_qubits - 1\n",
    "    print(n)\n",
    "    qr1 = QuantumRegister(n, '|0⟩')\n",
    "    qr2 = QuantumRegister(1, 'second reg.')\n",
    "    cr = ClassicalRegister(n, 'classic. reg.')\n",
    "    circuit = QuantumCircuit(qr1, qr2, cr)\n",
    "\n",
    "    circuit.barrier(qr1)\n",
    "    circuit.h(qr1)\n",
    "    circuit.x(qr2)\n",
    "    circuit.h(qr2)\n",
    "    circuit.barrier(qr1, qr2)\n",
    "\n",
    "    circuit = circuit.compose(function_to_test, qubits=[*range(n), n])  # We add the function to test\n",
    "\n",
    "    circuit.barrier(qr1, qr2)\n",
    "    circuit.h(qr1)\n",
    "    circuit.barrier(qr1, qr2)\n",
    "    circuit.measure(qr1, cr)\n",
    "\n",
    "    result = execute(circuit, backend=simulator, shots=999).result()\n",
    "    counts = result.get_counts()\n",
    "    counts = {k[::-1]: v for k, v in counts.items()}\n",
    "\n",
    "    print(counts)\n",
    "    return circuit.draw('mpl')"
   ]
  },
  {
   "attachments": {},
   "cell_type": "markdown",
   "metadata": {},
   "source": [
    "#### Balanced functions"
   ]
  },
  {
   "cell_type": "code",
   "execution_count": null,
   "metadata": {},
   "outputs": [],
   "source": [
    "def function_balanced1(n):\n",
    "    qr = QuantumRegister(n + 1)\n",
    "    circuit = QuantumCircuit(qr)\n",
    "\n",
    "    circuit.cx(qr[1], qr[n])\n",
    "\n",
    "    return circuit\n",
    "\n",
    "\n",
    "deutsch_jozsa_extended(function_balanced1(4))"
   ]
  },
  {
   "cell_type": "code",
   "execution_count": null,
   "metadata": {},
   "outputs": [],
   "source": [
    "def function_balanced2(n):\n",
    "    qr = QuantumRegister(n + 1)\n",
    "    circuit = QuantumCircuit(qr)\n",
    "\n",
    "    circuit.cx(qr[0], qr[n])\n",
    "\n",
    "    return circuit\n",
    "\n",
    "\n",
    "deutsch_jozsa_extended(function_balanced2(8))"
   ]
  },
  {
   "attachments": {},
   "cell_type": "markdown",
   "metadata": {},
   "source": [
    "#### Constant functions"
   ]
  },
  {
   "cell_type": "code",
   "execution_count": null,
   "metadata": {},
   "outputs": [],
   "source": [
    "def function_constant1(n):\n",
    "    qr = QuantumRegister(n + 1)\n",
    "    circuit = QuantumCircuit(qr)\n",
    "\n",
    "    return circuit\n",
    "\n",
    "\n",
    "deutsch_jozsa_extended(function_constant1(4))"
   ]
  },
  {
   "cell_type": "code",
   "execution_count": null,
   "metadata": {},
   "outputs": [],
   "source": [
    "def function_constant2(n):\n",
    "    qr = QuantumRegister(n + 1)\n",
    "    circuit = QuantumCircuit(qr)\n",
    "\n",
    "    circuit.x(qr[n])\n",
    "\n",
    "    return circuit\n",
    "\n",
    "\n",
    "deutsch_jozsa_extended(function_constant2(6))"
   ]
  }
 ],
 "metadata": {
  "kernelspec": {
   "display_name": "Python 3 (ipykernel)",
   "language": "python",
   "name": "python3"
  },
  "language_info": {
   "codemirror_mode": {
    "name": "ipython",
    "version": 3
   },
   "file_extension": ".py",
   "mimetype": "text/x-python",
   "name": "python",
   "nbconvert_exporter": "python",
   "pygments_lexer": "ipython3",
   "version": "3.11.2"
  }
 },
 "nbformat": 4,
 "nbformat_minor": 2
}
